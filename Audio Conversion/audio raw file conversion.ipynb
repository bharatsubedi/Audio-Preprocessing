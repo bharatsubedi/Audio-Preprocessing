{
 "cells": [
  {
   "cell_type": "code",
   "execution_count": 1,
   "metadata": {},
   "outputs": [
    {
     "name": "stderr",
     "output_type": "stream",
     "text": [
      "/home/smartmind/.local/lib/python3.6/site-packages/numba/core/errors.py:149: UserWarning: Insufficiently recent colorama version found. Numba requires colorama >= 0.3.9\n",
      "  warnings.warn(msg)\n"
     ]
    }
   ],
   "source": [
    "import IPython\n",
    "from scipy.io import wavfile\n",
    "import scipy.signal\n",
    "import numpy as np\n",
    "import matplotlib.pyplot as plt\n",
    "import librosa\n",
    "import wave\n",
    "%matplotlib inline"
   ]
  },
  {
   "cell_type": "code",
   "execution_count": 18,
   "metadata": {},
   "outputs": [
    {
     "name": "stdout",
     "output_type": "stream",
     "text": [
      "192.168.100.11_20160102100224_IN_01062688058_1401.tx\n"
     ]
    }
   ],
   "source": [
    "#sox --channels 1 --type raw --rate 8000 -e a-law input_file.g711a output_file.wav\n",
    "#[\"sox\",\"-r\",\"8000\", \"-t\", \"sw\", \"-e\", \"a-law\", \"-c\", \"1\", \"-b\", \"16\", name1, name2]\n",
    "from subprocess import call\n",
    "file = \"./name.txt\" #list of audio\n",
    "with open(file,'r') as f:\n",
    "     for name in f.read().splitlines():\n",
    "            print(name)\n",
    "            rename = 'convert'+name\n",
    "            name1 = name \n",
    "            name2 = rename+'.wav' #output\n",
    "            call([\"sox\",\"-c\",\"1\", \"-t\", \"raw\", \"-r\", \"8000\", \"-e\", \"a-law\", name1, name2]) # change bit rate -b => 16"
   ]
  },
  {
   "cell_type": "code",
   "execution_count": null,
   "metadata": {},
   "outputs": [],
   "source": [
    "#wav to readable wave format\n",
    "from subprocess import call\n",
    "file = \"name.txt\" \n",
    "with open(file,'r') as f:\n",
    "     for name in f.read().splitlines():\n",
    "            rename ='Final_'+name\n",
    "            name1 = name \n",
    "            name2 = rename+'.wav' \n",
    "            call([\"sox\",name1,\"-r\", \"8000\", \"-c\", \"1\", \"-b\",\"16\",name2])"
   ]
  }
 ],
 "metadata": {
  "kernelspec": {
   "display_name": "Python 3",
   "language": "python",
   "name": "python3"
  },
  "language_info": {
   "codemirror_mode": {
    "name": "ipython",
    "version": 3
   },
   "file_extension": ".py",
   "mimetype": "text/x-python",
   "name": "python",
   "nbconvert_exporter": "python",
   "pygments_lexer": "ipython3",
   "version": "3.6.9"
  }
 },
 "nbformat": 4,
 "nbformat_minor": 2
}
